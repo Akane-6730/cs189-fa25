{
 "cells": [
  {
   "cell_type": "markdown",
   "id": "ce4f9ce8",
   "metadata": {},
   "source": [
    "<link rel=\"stylesheet\" href=\"berkeley.css\">\n",
    "<h1 class=\"cal cal-h1\">Introduction to Plotting with Plotly – CS 189, Fall 2025</h1>\n",
    "\n"
   ]
  },
  {
   "cell_type": "markdown",
   "id": "d11b2802",
   "metadata": {},
   "source": [
    "Building visualization is an important part of machine learning. In this notebook, we will explore how to create interactive visualizations using Plotly, a powerful library for creating dynamic and engaging plots.\n",
    "\n",
    "Critically, we will learn how to use Plotly to visualize data in a way that helps us debug machine learning algorithms and communicate results effectively.\n",
    "\n",
    "There are many different visualization libraries available in Python, but Plotly stands out for its interactivity and ease of use. It allows us to create plots that can be easily shared and embedded in web applications.  However, you will likely also encounter Matplotlib and its more friendly Seaborn wrapper. Matplotlib is a more traditional plotting library that is widely used in the Python community. It is a good choice for creating static plots, but it does not have the same level of interactivity as Plotly. Seaborn is a higher-level interface to Matplotlib that makes it easier to create complex visualizations with less code.\n",
    "\n",
    "We have chosen to prioritize Plotly in this course because we believe it is important to be able to interact with your data as you explore it.  "
   ]
  },
  {
   "cell_type": "markdown",
   "id": "81beae00",
   "metadata": {},
   "source": [
    "## Toy Data\n",
    "\n",
    "Here we will use the [auto-mpg dataset](https://archive.ics.uci.edu/ml/datasets/auto+mpg) from the UCI Machine Learning Repository, which contains information about various cars, including their miles per gallon (MPG), number of cylinders, horsepower, and more. This dataset is commonly used for regression tasks in machine learning."
   ]
  },
  {
   "cell_type": "code",
   "execution_count": null,
   "id": "d05564dd",
   "metadata": {},
   "outputs": [],
   "source": [
    "import pandas as pd\n",
    "import numpy as np\n",
    "import matplotlib.pyplot as plt \n",
    "import seaborn as sns\n",
    "\n",
    "mpg = pd.read_csv(\"hf://datasets/scikit-learn/auto-mpg/auto-mpg.csv\")\n",
    "mpg['origin'] = mpg['origin'].map({1: 'USA', 2: 'Europe', 3: 'Japan'})\n",
    "mpg"
   ]
  },
  {
   "cell_type": "markdown",
   "id": "93e62ed3",
   "metadata": {},
   "source": [
    "## Matplotlib and Seaborn\n",
    "\n",
    "### Matplotlib\n",
    "Matplotlib is a versatile Python library for creating static, animated, and interactive visualizations. It offers a low-level interface for highly customizable plots, suitable for publication-quality visualizations.\n",
    "\n",
    "#### Types of Plots:\n",
    "- Line Plots\n",
    "- Scatter Plots\n",
    "- Bar Charts\n",
    "- Histograms\n",
    "- Box Plots\n",
    "- Heatmaps\n",
    "\n",
    "### Seaborn\n",
    "Seaborn is a high-level interface built on top of Matplotlib, designed for statistical data visualization. It provides an intuitive interface and aesthetically pleasing default styles, working seamlessly with Pandas DataFrames.\n",
    "\n",
    "#### Types of Plots:\n",
    "- Relational Plots (scatter, line)\n",
    "- Categorical Plots (bar, box, violin, swarm)\n",
    "- Distribution Plots (histograms, KDE, rug)\n",
    "- Regression Plots\n",
    "- Heatmaps\n",
    "\n",
    "Matplotlib offers more control, while Seaborn simplifies the creation of visually appealing plots."
   ]
  },
  {
   "cell_type": "code",
   "execution_count": null,
   "id": "024ec20c",
   "metadata": {},
   "outputs": [],
   "source": [
    "mpg['make'] = mpg['car name'].str.split(' ').str[0]\n",
    "\n",
    "yearly_mpg = (\n",
    "    mpg.groupby(['origin', 'model year', 'make'])\n",
    "    [['mpg', 'displacement', 'weight']]\n",
    "    .mean().reset_index()\n",
    ")"
   ]
  },
  {
   "cell_type": "code",
   "execution_count": null,
   "id": "cacf26b2",
   "metadata": {},
   "outputs": [],
   "source": [
    "# Line Plot\n",
    "sns.lineplot(data=yearly_mpg, x='model year', y='mpg', hue='origin', marker='o')\n",
    "plt.title('Average MPG by Model Year and Origin')\n",
    "plt.xlabel('Model Year')\n",
    "plt.ylabel('Miles Per Gallon (MPG)')\n",
    "plt.legend(title='Origin')\n",
    "plt.show()"
   ]
  },
  {
   "cell_type": "code",
   "execution_count": null,
   "id": "a16391e4",
   "metadata": {},
   "outputs": [],
   "source": [
    "# Scatter Plot\n",
    "sns.scatterplot(data=mpg, x='weight', y='mpg', hue='origin')\n",
    "plt.title('MPG vs. Weight by Origin')\n",
    "plt.xlabel('Weight (lbs)')\n",
    "plt.ylabel('Miles Per Gallon (MPG)')\n",
    "plt.legend(title='Origin')\n",
    "plt.show()"
   ]
  },
  {
   "cell_type": "code",
   "execution_count": null,
   "id": "ca794c54",
   "metadata": {},
   "outputs": [],
   "source": [
    "# Bar Chart\n",
    "mpg.groupby('origin')['mpg'].mean().plot(kind='bar', color=['blue', 'orange', 'green'])\n",
    "plt.title('Average MPG by Origin')\n",
    "plt.ylabel('Average MPG')\n",
    "plt.xlabel('Origin')\n",
    "plt.show()"
   ]
  },
  {
   "cell_type": "code",
   "execution_count": null,
   "id": "14e07000",
   "metadata": {},
   "outputs": [],
   "source": [
    "# Histogram\n",
    "sns.histplot(data=mpg, x='mpg', hue='origin', element='step', stat='count', common_norm=False)\n",
    "plt.title('MPG Distribution by Origin')\n",
    "plt.xlabel('Miles Per Gallon (MPG)')\n",
    "plt.ylabel('Count')\n",
    "plt.show()"
   ]
  },
  {
   "cell_type": "code",
   "execution_count": null,
   "id": "41cb3661",
   "metadata": {},
   "outputs": [],
   "source": [
    "# Box Plot\n",
    "sns.boxplot(data=mpg, x='origin', y='mpg', hue='origin', palette='Set2')\n",
    "plt.title('MPG Distribution by Origin')\n",
    "plt.xlabel('Origin')\n",
    "plt.ylabel('Miles Per Gallon (MPG)')\n",
    "plt.show()"
   ]
  },
  {
   "cell_type": "code",
   "execution_count": null,
   "id": "c4c524b0",
   "metadata": {},
   "outputs": [],
   "source": [
    "# Heatmap\n",
    "corr = mpg[['mpg', 'cylinders', 'displacement', 'weight', 'acceleration']].corr()\n",
    "sns.heatmap(corr, annot=True, cmap='coolwarm', fmt='.2f')\n",
    "plt.title('Correlation Heatmap')\n",
    "plt.show()"
   ]
  },
  {
   "cell_type": "code",
   "execution_count": null,
   "id": "7afd9561",
   "metadata": {},
   "outputs": [],
   "source": [
    "sns.scatterplot(data=mpg, x='weight', y='mpg', hue='origin', size='cylinders')\n",
    "plt.title('MPG by Weight and Origin')\n",
    "plt.xlabel('Weight (lbs)')\n",
    "plt.ylabel('Miles Per Gallon (MPG)')\n",
    "plt.show()"
   ]
  },
  {
   "cell_type": "markdown",
   "id": "4b10d3e5",
   "metadata": {},
   "source": [
    "## Value of Interactive Visualizations"
   ]
  },
  {
   "cell_type": "markdown",
   "id": "841bf864",
   "metadata": {},
   "source": [
    "Static Visualizations are great for presenting results, but they can be limiting when it comes to exploring data. Interactive visualizations allow us to:\n",
    "- **Zoom and Pan**: Focus on specific areas of the plot.\n",
    "- **Hover for Details**: Get more information about specific data points.\n",
    "- **Filter Data**: Select subsets of data to visualize.\n",
    "- **Change Parameters**: Adjust parameters dynamically to see how they affect the visualization.\n",
    "These features make it easier to understand complex datasets and identify patterns or anomalies."
   ]
  },
  {
   "cell_type": "markdown",
   "id": "71eefa57",
   "metadata": {},
   "source": [
    "## Creating an Interactive Scatter Plot with Plotly Express\n",
    "\n",
    "This code creates an **interactive scatter plot** using the `plotly.express` library. This plot explores the relationship between car weight and fuel efficiency, considering origin and cylinder count.\n",
    "Key components:\n",
    "\n",
    "1. **`px.scatter`**: Generates a scatter plot to visualize relationships between two numerical variables.\n",
    "2. **Parameters**:\n",
    "    - **`mpg`**: Dataset containing car information.\n",
    "    - **`x='weight'`**: X-axis represents car weight.\n",
    "    - **`y='mpg'`**: Y-axis represents miles per gallon.\n",
    "    - **`color='origin'`**: Groups points by car origin.\n",
    "    - **`size='cylinders'`**: Marker size reflects the number of cylinders.\n",
    "    - **`size_max=12`**: Limits marker size.\n",
    "    - **`hover_data=mpg.columns`**: Displays all dataset columns on hover.\n",
    "    - **`title='MPG vs. Weight by Origin'`**: Adds a plot title.\n",
    "    - **`labels={'weight': 'Weight (lbs)', 'mpg': 'Miles Per Gallon (MPG)'}`**: Customizes axis labels.\n",
    "    - **`width=800, height=600`**: Sets plot dimensions."
   ]
  },
  {
   "cell_type": "code",
   "execution_count": null,
   "id": "9e35cf77",
   "metadata": {},
   "outputs": [],
   "source": [
    "import plotly.express as px\n",
    "\n",
    "px.scatter(mpg, x='weight', y='mpg', color='origin', \n",
    "           size='cylinders', size_max=12,\n",
    "           hover_data=mpg.columns,\n",
    "           title='MPG vs. Weight by Origin',\n",
    "           labels={'weight': 'Weight (lbs)', 'mpg': 'Miles Per Gallon (MPG)'},\n",
    "           width=800, height=600)"
   ]
  },
  {
   "cell_type": "markdown",
   "id": "e1350884",
   "metadata": {},
   "source": [
    "We can even make interactive visualizations that allow us to explore how a model's predictions change over time or with different parameters. The code you provided creates an **animated scatter plot** using Plotly Express. Here's a pedagogical explanation of the code:\n",
    "\n",
    "### Key Components:\n",
    "\n",
    "2. **Parameters**:\n",
    "    - **`hover_data=yearly_mpg.columns`**: Displays all columns of the `yearly_mpg` DataFrame when hovering over a point.\n",
    "    - **`animation_frame='model year'`**: Animates the plot over the `model year` column, showing changes over time.\n",
    "    - **`animation_group='make'`**: Groups points by the car's make to track them across animation frames.\n",
    "\n",
    "3. **`fig.update_layout`**:\n",
    "    - **`xaxis_title` and `yaxis_title`**: Sets the axis titles.\n",
    "    - **`xaxis_range` and `yaxis_range`**: Defines the range of the x and y axes.\n",
    "    - **`legend_title_text`**: Sets the title for the legend."
   ]
  },
  {
   "cell_type": "code",
   "execution_count": null,
   "id": "0b785ab8",
   "metadata": {},
   "outputs": [],
   "source": [
    "fig = px.scatter(yearly_mpg, x='weight', y='mpg', color='origin',\n",
    "                 hover_data=yearly_mpg.columns,\n",
    "                 animation_frame='model year', animation_group='make', \n",
    "                 title='MPG vs. Weight by Origin',\n",
    "                 labels={'weight': 'Weight (lbs)', 'mpg': 'Miles Per Gallon (MPG)'},\n",
    "                 width=800, height=600)\n",
    "fig.update_layout(\n",
    "    xaxis_title='Weight (lbs)',\n",
    "    yaxis_title='Miles Per Gallon (MPG)',\n",
    "    xaxis_range=[1500, 5000],\n",
    "    yaxis_range=[10, 50],\n",
    "    legend_title_text='Origin',\n",
    ")\n",
    "fig.show()"
   ]
  },
  {
   "cell_type": "markdown",
   "id": "85de95cf",
   "metadata": {},
   "source": [
    "## Three Modes for Plotly \n",
    "\n",
    "There are three modes for using Plotly that we will explore in this course:\n",
    "\n",
    "1. **Pandas Plotting**: A convenient interface for creating Plotly visualizations directly from Pandas DataFrames. It simplifies the process of generating plots from tabular data.\n",
    "2. **Plotly Express**: A high-level interface for creating plots with minimal code. It is ideal for quick visualizations and exploratory data analysis.  This is similar to the Seaborn interface for Matplotlib, which is a higher-level interface to Matplotlib that makes it easier to create complex visualizations with less code. Like Pandas Plotting, it is designed to work seamlessly with Pandas DataFrames and provides a simple API for creating a wide range of visualizations.\n",
    "3. **Graph Objects**: A more flexible and powerful interface that allows for fine-grained control over the appearance and behavior of plots. It is suitable for creating complex visualizations and custom layouts.\n"
   ]
  },
  {
   "cell_type": "markdown",
   "id": "05a0adbb",
   "metadata": {},
   "source": [
    "## Using Pandas Plotting\n",
    "\n",
    "To use Plotly in Pandas, you need to set the plotting backend to Plotly. This allows you to use the `plot` method on Pandas DataFrames to create interactive plots.\n"
   ]
  },
  {
   "cell_type": "code",
   "execution_count": null,
   "id": "683cee60",
   "metadata": {},
   "outputs": [],
   "source": [
    "pd.set_option('plotting.backend', 'plotly')"
   ]
  },
  {
   "cell_type": "markdown",
   "id": "0f93f6d8",
   "metadata": {},
   "source": [
    "Now we can use the `plot` method on our `DataFrame` to create interactive plots. "
   ]
  },
  {
   "cell_type": "code",
   "execution_count": null,
   "id": "746b1e89",
   "metadata": {},
   "outputs": [],
   "source": [
    "mpg.plot(\n",
    "    kind='scatter',\n",
    "    x='weight', y='mpg', color='origin', size='cylinders',\n",
    "    title='MPG vs. Weight by Origin',\n",
    "    width=800, height=600)"
   ]
  },
  {
   "cell_type": "markdown",
   "id": "7ed3a176",
   "metadata": {},
   "source": [
    "Notice how we specify the `kind` of plot as well as how the data should be mapped to the axes, color, and size.  This is an interactive plot so you can mouse over the points to see more information. You can double and tripple click on the legend to hide and show different series. You can also zoom in and out of the plot by clicking and dragging on the plot area. Here we also set the width and height of the plot to make it larger and more readable.\n"
   ]
  },
  {
   "cell_type": "markdown",
   "id": "c1c2b01b",
   "metadata": {},
   "source": [
    "All the basic plotting functions in Pandas and plotly express return `Figure` objects, which can be further customized using the methods available in the `plotly.graph_objects` module."
   ]
  },
  {
   "cell_type": "code",
   "execution_count": null,
   "id": "95b431a7",
   "metadata": {},
   "outputs": [],
   "source": [
    "fig = mpg.plot(\n",
    "    kind='scatter',\n",
    "    x='weight', y='mpg', color='origin', size='cylinders',\n",
    "    title='MPG vs. Weight by Origin',\n",
    "    width=800, height=600)\n",
    "\n",
    "# change to the style\n",
    "fig.update_layout(template='plotly_dark')\n",
    "# fig.update_layout(template='plotly_white')\n",
    "# fig.update_layout(template='ggplot2')\n",
    "# fig.update_layout(template='seaborn')\n",
    "fig.update_layout(xaxis_title='Weight (lbs)',\n",
    "                  yaxis_title='Miles per Gallon (MPG)',\n",
    "                  legend_title='Origin')\n",
    "fig.show()"
   ]
  },
  {
   "cell_type": "markdown",
   "id": "daa06645",
   "metadata": {},
   "source": [
    "We can also save plots to HTML files, which can be shared and embedded in web applications. This is useful for creating interactive reports and dashboards.\n",
    "\n"
   ]
  },
  {
   "cell_type": "code",
   "execution_count": null,
   "id": "fdb0660a",
   "metadata": {},
   "outputs": [],
   "source": [
    "fig.write_html('mpg_scatter.html', include_plotlyjs='cdn')\n",
    "fig.write_image('mpg_scatter.png', scale=2, width=800, height=600)\n",
    "fig.write_image('mpg_scatter.pdf', scale=2, width=800, height=600)"
   ]
  },
  {
   "cell_type": "markdown",
   "id": "e46a0c20",
   "metadata": {},
   "source": [
    "The figure object is made of two key components: the data and the layout. The data is a list of traces, which are the individual plots that make up the figure. The layout is a dictionary that contains information about the appearance of the plot, such as the title, axis labels, and legend."
   ]
  },
  {
   "cell_type": "code",
   "execution_count": null,
   "id": "1843e5f1",
   "metadata": {},
   "outputs": [],
   "source": [
    "display(fig.data)\n",
    "display(fig.layout)"
   ]
  },
  {
   "cell_type": "markdown",
   "id": "25d16ba9",
   "metadata": {},
   "source": [
    "## Using Plotly Express\n",
    "\n",
    "Plotly express is closely related to Pandas Plotting, but it is a separate library that provides a high-level interface for creating plots. It is designed to work seamlessly with `pandas` `DataFrames` and provides a simple API for creating a wide range of visualizations. Plotly express offers more flexibility and customization options than `pandas` plotting, making it a powerful tool for creating complex visualizations."
   ]
  },
  {
   "cell_type": "code",
   "execution_count": null,
   "id": "42411927",
   "metadata": {},
   "outputs": [],
   "source": [
    "import plotly.express as px"
   ]
  },
  {
   "cell_type": "code",
   "execution_count": null,
   "id": "f271462f",
   "metadata": {},
   "outputs": [],
   "source": [
    "px.scatter(mpg, x='weight', y='mpg', color='origin', size='cylinders',\n",
    "           title='MPG vs. Weight by Origin',\n",
    "           width=800, height=600, \n",
    "           template='plotly_dark')"
   ]
  },
  {
   "cell_type": "markdown",
   "id": "21f7a429",
   "metadata": {},
   "source": [
    "Just as before we get back a `Figure` object that we can further customize."
   ]
  },
  {
   "cell_type": "code",
   "execution_count": null,
   "id": "992e376f",
   "metadata": {},
   "outputs": [],
   "source": [
    "fig = px.scatter(mpg, x='weight', y='mpg', color='origin', size='cylinders',\n",
    "                 title='MPG vs. Weight by Origin',\n",
    "                 width=800, height=600, \n",
    "                 template='plotly_dark')\n",
    "# change the marker symbol for the USA trace\n",
    "fig.update_traces(marker=dict(symbol=\"square\"), selector=dict(name=\"USA\")) \n",
    "# you can also just modify the data dictionary directly\n",
    "#fig.data[0]['marker']['symbol'] = \"square\"\n",
    "\n",
    "# change formatting (layout) of the figure\n",
    "fig.update_layout(font=dict(family=\"Courier New, monospace\", size=16))\n",
    "# You can also refer to the font family and size directly\n",
    "fig.update_layout(font_family=\"Courier New, monospace\", font_size=16)\n",
    "fig"
   ]
  },
  {
   "cell_type": "markdown",
   "id": "0172eede",
   "metadata": {},
   "source": [
    "## Using Plotly Graphics Objects\n",
    "\n",
    "The Graphics objects are a more flexible and powerful interface that allows for fine-grained control over the appearance and behavior of plots. It is suitable for creating complex visualizations and custom layouts.\n"
   ]
  },
  {
   "cell_type": "code",
   "execution_count": null,
   "id": "7fb1d488",
   "metadata": {},
   "outputs": [],
   "source": [
    "from plotly import graph_objects as go"
   ]
  },
  {
   "cell_type": "code",
   "execution_count": null,
   "id": "7c08bae0",
   "metadata": {},
   "outputs": [],
   "source": [
    "fig = go.Figure()\n",
    "max_size = 20\n",
    "\n",
    "# Iterate over unique origins and create a scatter trace for each\n",
    "for i, origin in enumerate(mpg['origin'].unique()):\n",
    "    # Filter the DataFrame for the current origin\n",
    "    subset = mpg[mpg['origin'] == origin]\n",
    "    marker_sizes = max_size*subset['cylinders']/subset['cylinders'].max()\n",
    "    # Create a hover text for each point\n",
    "    hover_text = (\n",
    "            subset['origin'] + \"<br>\"\n",
    "                  \"Weight: \" + subset['weight'].astype(str) + \"<br>\"\n",
    "                  \"MPG: \" + subset['mpg'].astype(str) + \"<br>\"\n",
    "                  \"Cylinders: \" + subset['cylinders'].astype(str))\n",
    "    # add a trace to the figure\n",
    "    fig.add_trace(\n",
    "        go.Scatter(\n",
    "            x=subset['weight'], y=subset['mpg'],\n",
    "            mode='markers',\n",
    "            name=origin,\n",
    "            marker=dict(size=marker_sizes, color=i),\n",
    "            text=hover_text,\n",
    "        )\n",
    "    )\n",
    "fig.add_annotation(\n",
    "    text=\"Data source: Auto MPG dataset\",\n",
    "    xref=\"paper\", yref=\"paper\",\n",
    "    x=0, y=-0.1,\n",
    "    showarrow=False,\n",
    "    font=dict(size=12, color=\"gray\")\n",
    ")\n",
    "fig.update_layout(\n",
    "    title='MPG vs. Weight by Origin',\n",
    "    xaxis_title='Weight (lbs)',\n",
    "    yaxis_title='Miles per Gallon (MPG)',\n",
    "    width=800, height=600,\n",
    "    template='plotly_white',\n",
    "    font_family=\"Times\", font_size=16,\n",
    ")\n",
    "fig.show()"
   ]
  },
  {
   "cell_type": "markdown",
   "id": "5b260ed6",
   "metadata": {},
   "source": [
    "## Visualizing Different Kinds of Data\n",
    "\n",
    "Now that we have seen the basics of using Plotly, let's explore how to visualize different kinds of data.\n"
   ]
  },
  {
   "cell_type": "markdown",
   "id": "33f63de6",
   "metadata": {},
   "source": [
    "### Histograms"
   ]
  },
  {
   "cell_type": "code",
   "execution_count": null,
   "id": "31466c64",
   "metadata": {},
   "outputs": [],
   "source": [
    "px.histogram(mpg, x='mpg', facet_row='origin')"
   ]
  },
  {
   "cell_type": "code",
   "execution_count": null,
   "id": "6de67e4e",
   "metadata": {},
   "outputs": [],
   "source": [
    "mpg.hist(x='mpg', color='origin', bins=10, barmode='overlay')"
   ]
  },
  {
   "cell_type": "code",
   "execution_count": null,
   "id": "95ad25b7",
   "metadata": {},
   "outputs": [],
   "source": [
    "fig = mpg.hist(x='mpg', color='origin', bins=10, facet_row='origin',\n",
    "         title='MPG Distribution by Origin',\n",
    "         width=800, height=600)\n",
    "fig"
   ]
  },
  {
   "cell_type": "code",
   "execution_count": null,
   "id": "ce57bf2c",
   "metadata": {},
   "outputs": [],
   "source": [
    "mpg['make'] =mpg['car name'].str.split(' ').str[0]\n",
    "mpg.plot(kind='bar',\n",
    "         x='make', color='origin', \n",
    "         hover_data=['mpg', 'cylinders', 'car name'],\n",
    "         title='Average MPG by Make and Origin',\n",
    "         width=800, height=600)"
   ]
  },
  {
   "cell_type": "markdown",
   "id": "de5b1b7f",
   "metadata": {},
   "source": [
    "## Scatter and Line Plots"
   ]
  },
  {
   "cell_type": "code",
   "execution_count": null,
   "id": "49806d0b",
   "metadata": {},
   "outputs": [],
   "source": [
    "yearly_mpg = (\n",
    "    mpg\n",
    "    .groupby(['origin', 'model year'])\n",
    "    [['mpg', 'displacement', 'weight']]\n",
    "    .mean().reset_index()\n",
    ")\n",
    "yearly_mpg.head()"
   ]
  },
  {
   "cell_type": "code",
   "execution_count": null,
   "id": "2d5fd946",
   "metadata": {},
   "outputs": [],
   "source": [
    "yearly_mpg.plot(kind='line', \n",
    "                x='model year', y='mpg', color='origin',\n",
    "                markers=True,\n",
    "                title='Average MPG by Model Year and Origin',\n",
    "                width=800, height=600)\n"
   ]
  },
  {
   "cell_type": "code",
   "execution_count": null,
   "id": "3cd8b381",
   "metadata": {},
   "outputs": [],
   "source": [
    "px.line(yearly_mpg, x='model year', y='mpg', color='origin',\n",
    "        markers=True,\n",
    "        title='Average MPG by Model Year and Origin',\n",
    "        width=800, height=600)"
   ]
  }
 ],
 "metadata": {
  "kernelspec": {
   "display_name": "cs189",
   "language": "python",
   "name": "python3"
  },
  "language_info": {
   "codemirror_mode": {
    "name": "ipython",
    "version": 3
   },
   "file_extension": ".py",
   "mimetype": "text/x-python",
   "name": "python",
   "nbconvert_exporter": "python",
   "pygments_lexer": "ipython3",
   "version": "3.13.5"
  }
 },
 "nbformat": 4,
 "nbformat_minor": 5
}
