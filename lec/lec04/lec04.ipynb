{
 "cells": [
  {
   "cell_type": "markdown",
   "id": "5d49d679",
   "metadata": {},
   "source": [
    "<link rel=\"stylesheet\" href=\"berkeley.css\">\n",
    "\n",
    "<h1 class=\"cal cal-h1\">Lecture 04: K-Means and Probability – CS 189, Fall 2025</h1>\n",
    "\n",
    "\n",
    "In this lecture notebook, we will explore k-means clustering and some of the basic probability calculations from lecture.\n"
   ]
  },
  {
   "cell_type": "code",
   "execution_count": null,
   "id": "552e7282",
   "metadata": {},
   "outputs": [],
   "source": [
    "import pandas as pd\n",
    "import plotly.express as px\n",
    "import plotly.graph_objects as go\n",
    "from plotly import figure_factory as ff\n",
    "colors = px.colors.qualitative.Plotly\n",
    "px.defaults.width = 800\n",
    "from ipywidgets import HBox\n",
    "import numpy as np\n",
    "pd.set_option('plotting.backend', 'plotly')"
   ]
  },
  {
   "cell_type": "code",
   "execution_count": null,
   "id": "832977bd",
   "metadata": {},
   "outputs": [],
   "source": [
    "# make the images folder if it doesn't exist\n",
    "import os\n",
    "if not os.path.exists(\"images\"):\n",
    "    os.makedirs(\"images\")\n",
    "\n",
    "# # Uncomment for HTML Export\n",
    "# import plotly.io as pio\n",
    "# pio.renderers.default = \"notebook_connected\""
   ]
  },
  {
   "cell_type": "markdown",
   "id": "8b7bbdb0",
   "metadata": {},
   "source": [
    "<link rel=\"stylesheet\" href=\"berkeley.css\">\n",
    "\n",
    "<h2 class=\"cal cal-h2\">The Bike Dataset</h2>\n",
    "\n",
    "Here we will apply k-means clustering to the bike dataset to explore the distribution of length and speed of Prof. Gonzales' bike rides."
   ]
  },
  {
   "cell_type": "code",
   "execution_count": null,
   "id": "9ce6c8ed",
   "metadata": {},
   "outputs": [],
   "source": [
    "# bikes = pd.read_csv(\"speed_length_data.csv\")\n",
    "bikes = pd.read_csv(\"https://eecs189.org/fa25/resources/assets/lectures/lec04/speed_length_data.csv\")\n",
    "bikes.head()"
   ]
  },
  {
   "cell_type": "code",
   "execution_count": null,
   "id": "941a7a6f",
   "metadata": {},
   "outputs": [],
   "source": [
    "bikes.plot.scatter(x='Speed', y='Length', title='Speed vs Length of Bike Segments', \n",
    "                   height=800)"
   ]
  },
  {
   "cell_type": "markdown",
   "id": "10fa00a4",
   "metadata": {},
   "source": [
    "<link rel=\"stylesheet\" href=\"berkeley.css\">\n",
    "\n",
    "<h3 class=\"cal cal-h3\">Scikit-Learn K-Means Clustering</h3>\n",
    "\n",
    "We have data for 4 bikes. Let's try k-means clustering using scikit-learn with 4 clusters.\n",
    "\n"
   ]
  },
  {
   "cell_type": "code",
   "execution_count": null,
   "id": "8c9a1cf3",
   "metadata": {},
   "outputs": [],
   "source": [
    "from sklearn.cluster import KMeans\n",
    "# Create a KMeans model with 4 clusters\n",
    "kmeans = KMeans(n_clusters=4, random_state=42)\n",
    "# Fit the model to the data\n",
    "kmeans.fit(bikes[['Speed', 'Length']])\n",
    "# Get the cluster labels\n",
    "bikes['scikit k-means'] = kmeans.predict(bikes[['Speed', 'Length']]).astype(str)"
   ]
  },
  {
   "cell_type": "markdown",
   "id": "3845e922",
   "metadata": {},
   "source": [
    "We can visualize the clustering"
   ]
  },
  {
   "cell_type": "code",
   "execution_count": null,
   "id": "a0986c51",
   "metadata": {},
   "outputs": [],
   "source": [
    "fig = px.scatter(\n",
    "    bikes, x='Speed', y='Length', color='scikit k-means',\n",
    "    title='K-Means Clustering of Bike Segments',\n",
    "    height=800)\n",
    "fig.add_scatter(\n",
    "    x=kmeans.cluster_centers_[:,0],\n",
    "    y=kmeans.cluster_centers_[:,1],\n",
    "    mode='markers',\n",
    "    marker=dict(color='black', size=10),\n",
    "    name='Centroids'\n",
    ")\n",
    "#fig.write_image(\"images/bike_kmeans.pdf\", scale=2, height=800, width=700)\n"
   ]
  },
  {
   "cell_type": "markdown",
   "id": "483e41a7",
   "metadata": {},
   "source": [
    "<br><br><br>\n",
    "\n",
    "---\n",
    "Return to Lecture\n",
    "\n",
    "---\n",
    "\n",
    "<br><br><br>\n"
   ]
  },
  {
   "cell_type": "markdown",
   "id": "0b23f3a5",
   "metadata": {},
   "source": [
    "<link rel=\"stylesheet\" href=\"berkeley.css\">\n",
    "\n",
    "<h2 class=\"cal cal-h2\">Implementing the K-Means Clustering Algorithm</h2>\n",
    "\n",
    "Lloyd's algorithm for K-means clustering has three key elements: initialization, assignment, and update. We will implement a function for each."
   ]
  },
  {
   "cell_type": "markdown",
   "id": "3c1d848f",
   "metadata": {},
   "source": [
    "<link rel=\"stylesheet\" href=\"berkeley.css\">\n",
    "\n",
    "<h3 class=\"cal cal-h3\">Initialization</h3>\n",
    "\n",
    "Here we use the basic Forgy method of randomly selecting k data points as the initial cluster centers."
   ]
  },
  {
   "cell_type": "code",
   "execution_count": null,
   "id": "908809c3",
   "metadata": {},
   "outputs": [],
   "source": [
    "def initialize_centers(x, k):\n",
    "    \"\"\"Randomly select k unique points from x to use as initial centers.\"\"\"\n",
    "    ind = np.random.choice(np.arange(x.shape[0]), k, replace=False)\n",
    "    return x[ind]"
   ]
  },
  {
   "cell_type": "code",
   "execution_count": null,
   "id": "3b175dfa",
   "metadata": {},
   "outputs": [],
   "source": [
    "k = 4\n",
    "x = bikes[['Speed', 'Length']].to_numpy()\n",
    "centers = initialize_centers(x, k)\n",
    "centers"
   ]
  },
  {
   "cell_type": "markdown",
   "id": "ac535c42",
   "metadata": {},
   "source": [
    "<link rel=\"stylesheet\" href=\"berkeley.css\">\n",
    "\n",
    "<h3 class=\"cal cal-h3\">Assignment</h3>\n",
    "\n",
    "\n",
    "\n",
    "In this step, we assign each data point to the nearest cluster center."
   ]
  },
  {
   "cell_type": "code",
   "execution_count": null,
   "id": "e4af192d",
   "metadata": {},
   "outputs": [],
   "source": [
    "def compute_assignments(x, centers):\n",
    "    \"\"\"Assign each point in x to the nearest center.\"\"\"\n",
    "    distances = np.linalg.norm(x[:, np.newaxis] - centers, axis=2)\n",
    "    return np.argmin(distances, axis=1)"
   ]
  },
  {
   "cell_type": "code",
   "execution_count": null,
   "id": "fe8290e5",
   "metadata": {},
   "outputs": [],
   "source": [
    "assignments = compute_assignments(x, centers)\n",
    "assignments"
   ]
  },
  {
   "cell_type": "markdown",
   "id": "19c97ab1",
   "metadata": {},
   "source": [
    "<link rel=\"stylesheet\" href=\"berkeley.css\">\n",
    "\n",
    "<h3 class=\"cal cal-h3\">Update Centers</h3>\n",
    "\n",
    "\n",
    "\n",
    "In this step, we update the cluster centers by computing the mean of all points assigned to each center.\n"
   ]
  },
  {
   "cell_type": "code",
   "execution_count": null,
   "id": "79f5e328",
   "metadata": {},
   "outputs": [],
   "source": [
    "def update_centers(x, assignments, k):\n",
    "    \"\"\"Update centers based on the current assignments.\"\"\"\n",
    "    return np.array([x[assignments == i].mean(axis=0) for i in range(k)])"
   ]
  },
  {
   "cell_type": "code",
   "execution_count": null,
   "id": "67a16631",
   "metadata": {},
   "outputs": [],
   "source": [
    "centers = update_centers(x, assignments, k)\n",
    "centers"
   ]
  },
  {
   "cell_type": "markdown",
   "id": "9c299e5f",
   "metadata": {},
   "source": [
    "<link rel=\"stylesheet\" href=\"berkeley.css\">\n",
    "\n",
    "<h3 class=\"cal cal-h3\">Lloyd's Algorithm</h3>\n",
    "\n",
    "\n",
    "\n",
    "We put all these pieces together in a loop that continues until the centers no longer change."
   ]
  },
  {
   "cell_type": "code",
   "execution_count": null,
   "id": "b4c6d9b0",
   "metadata": {},
   "outputs": [],
   "source": [
    "def k_means_clustering(x, k, max_iters=100):\n",
    "    centers = initialize_centers(x, k)\n",
    "    assignments_old = -np.ones(x.shape[0])\n",
    "    soln_path = [centers]\n",
    "    for _ in range(max_iters):\n",
    "        assignments = compute_assignments(x, centers)\n",
    "        centers = update_centers(x, assignments, k)\n",
    "        soln_path.append(centers)\n",
    "        if np.array_equal(assignments, assignments_old):\n",
    "            break\n",
    "        assignments_old = assignments\n",
    "    return centers, assignments, soln_path"
   ]
  },
  {
   "cell_type": "code",
   "execution_count": null,
   "id": "5ddc4fd8",
   "metadata": {},
   "outputs": [],
   "source": [
    "np.random.seed(43)\n",
    "centers, assignments, soln_path = k_means_clustering(x, k)\n",
    "len(soln_path)"
   ]
  },
  {
   "cell_type": "markdown",
   "id": "ddced12e",
   "metadata": {},
   "source": [
    "The following code visualizes the clustering process at each iteration.\n"
   ]
  },
  {
   "cell_type": "code",
   "execution_count": null,
   "id": "345e7292",
   "metadata": {},
   "outputs": [],
   "source": [
    "### Construct an animation of the k-means algorithm.\n",
    "### You do not need to understand the code below for the class.\n",
    "### It is just for making the animation.\n",
    "\n",
    "## Prepare a giant table with all the data and centers labeled with the iteration.\n",
    "pts = []\n",
    "for i, centers in enumerate(soln_path):\n",
    "    df = bikes[['Speed', 'Length']].copy()\n",
    "    df['Class'] = compute_assignments(x, centers).astype(str)\n",
    "    df2 = pd.DataFrame(centers, columns=['Speed', 'Length'])\n",
    "    df2['Class'] = 'Center'\n",
    "    df_combined = pd.concat([df, df2], ignore_index=True)\n",
    "    # I also need the index of each point in center for the animation\n",
    "    # the index acts as a unique identifier for each point across frames\n",
    "    df_combined.reset_index(inplace=True)\n",
    "    # The iteration number tracks the frame in the animation\n",
    "    df_combined['Iteration'] = i\n",
    "    pts.append(df_combined)\n",
    "# I stack all the data into one big table.\n",
    "frames = pd.concat(pts, ignore_index=True)\n",
    "\n",
    "## Make the animation\n",
    "fig = px.scatter(frames, x='Speed', y='Length', color='Class', \n",
    "                 animation_group='index',\n",
    "                 animation_frame='Iteration', title='K-Means Clustering',\n",
    "                 width=700, height=800)\n",
    "## The aspect ratio of the plot is missleading.\n",
    "fig.update_layout(\n",
    "    xaxis=dict(scaleanchor=\"y\", scaleratio=1),\n",
    "    yaxis=dict(scaleanchor=\"x\", scaleratio=1)\n",
    ")\n",
    "# fig.write_image(\"images/bike_kmeans_animation_0.pdf\", height=800, width=700)\n",
    "\n",
    "## Touchup the centers to make them more visible\n",
    "fig.update_traces(marker=dict(size=12, symbol='x', color='black'), \n",
    "                  selector=dict(legendgroup='Center') )\n",
    "for i, f in enumerate(fig.frames):\n",
    "    for trace in f.data:\n",
    "        if trace.name == 'Center':\n",
    "            trace.update(marker=dict(size=12, symbol='x', color='black'))\n",
    "    # go.Figure(f.data, f.layout).write_image(\n",
    "    #     f\"images/bike_kmeans_animation_{i+1}.pdf\", height=800, width=700)\n",
    "# fig.write_html(\"images/bike_kmeans_animation.html\",include_plotlyjs='cdn', full_html=True)\n",
    "fig\n"
   ]
  },
  {
   "cell_type": "markdown",
   "id": "6af9505c",
   "metadata": {},
   "source": [
    "<br><br><br>\n",
    "\n",
    "---\n",
    "Return to Lecture\n",
    "\n",
    "---\n",
    "\n",
    "<br><br><br>\n"
   ]
  },
  {
   "cell_type": "markdown",
   "id": "3eea2561",
   "metadata": {},
   "source": [
    "<link rel=\"stylesheet\" href=\"berkeley.css\">\n",
    "\n",
    "<h2 class=\"cal cal-h2\">K-Means on Pixel Data</h2>\n"
   ]
  },
  {
   "cell_type": "markdown",
   "id": "0f4c7baa",
   "metadata": {},
   "source": [
    "Let's load an image from a recent bike ride."
   ]
  },
  {
   "cell_type": "code",
   "execution_count": null,
   "id": "5982ab96",
   "metadata": {},
   "outputs": [],
   "source": [
    "from PIL import Image\n",
    "import requests\n",
    "from io import BytesIO\n",
    "url = \"https://eecs189.org/fa25/resources/assets/lectures/lec04/bike2.jpeg\"\n",
    "response = requests.get(url)\n",
    "img = np.array(Image.open(BytesIO(response.content)))\n",
    "# img = np.array(Image.open(\"bike2.jpeg\"))\n",
    "print(img.shape)\n",
    "px.imshow(img)"
   ]
  },
  {
   "cell_type": "markdown",
   "id": "2812ccf1",
   "metadata": {},
   "source": [
    "We can think of an image as a collection of pixels, each represented by a color value. In the case of RGB images, each pixel is represented by three values corresponding to the red, green, and blue color channels. These are three dimensional vectors.  We can plot these vectors."
   ]
  },
  {
   "cell_type": "code",
   "execution_count": null,
   "id": "0114039c",
   "metadata": {},
   "outputs": [],
   "source": [
    "image_df = pd.DataFrame(img.reshape(-1,3), columns=['R', 'G', 'B'])\n",
    "image_df['color'] = (\"rgb(\" + \n",
    "                     image_df['R'].astype(str) + \",\" + \n",
    "                     image_df['G'].astype(str) + \",\" + \n",
    "                     image_df['B'].astype(str) + \")\")\n",
    "fig = go.Figure()\n",
    "small_image_df = image_df.sample(100000, random_state=42)\n",
    "fig.add_scatter3d(x=small_image_df['R'], y=small_image_df['G'], z=small_image_df['B'],\n",
    "                   mode='markers', marker=dict(color=small_image_df['color'], opacity=0.5, size=2))\n",
    "fig.update_layout(scene=dict(xaxis_title='R', yaxis_title='G', zaxis_title='B'), \n",
    "                  width=800, height=800,)\n",
    "# fig.write_html(\"images/bike_color_space.html\",include_plotlyjs='cdn', full_html=True)\n",
    "fig"
   ]
  },
  {
   "cell_type": "markdown",
   "id": "26a70365",
   "metadata": {},
   "source": [
    "<link rel=\"stylesheet\" href=\"berkeley.css\">\n",
    "\n",
    "<h3 class=\"cal cal-h3\">Applying K-Means</h3>\n"
   ]
  },
  {
   "cell_type": "code",
   "execution_count": null,
   "id": "cd0ff5b3",
   "metadata": {},
   "outputs": [],
   "source": [
    "from sklearn.cluster import KMeans\n",
    "# Apply k-means clustering to the RGB columns\n",
    "n_clusters = 8\n",
    "kmeans = KMeans(n_clusters=n_clusters, random_state=42)\n",
    "image_df['cluster'] = kmeans.fit_predict(image_df[['R', 'G', 'B']])\n",
    "image_df['cluster'].value_counts()"
   ]
  },
  {
   "cell_type": "code",
   "execution_count": null,
   "id": "f839ee37",
   "metadata": {},
   "outputs": [],
   "source": [
    "from plotly.subplots import make_subplots\n",
    "img_kmeans = (\n",
    "    kmeans.cluster_centers_[image_df['cluster'].values]\n",
    "    .reshape(img.shape)\n",
    ")\n",
    "# make two linked subplots\n",
    "fig = make_subplots(\n",
    "    rows=1, cols=2,\n",
    "    subplot_titles=(\"Original Image\", \"K-Means Compressed Image\"),\n",
    "    specs=[[{\"type\": \"xy\"}, {\"type\": \"xy\"}]]\n",
    ")\n",
    "fig.add_trace(px.imshow(img).data[0], row=1, col=1)\n",
    "fig.add_trace(px.imshow(img_kmeans).data[0], row=1, col=2)\n",
    "\n",
    "# 1) Make both subplots share identical ranges\n",
    "# (use half-pixel bounds to match how Image traces are rendered)\n",
    "H, W = img.shape[:2]\n",
    "xrange = [-0.5, W - 0.5]\n",
    "yrange = [H - 0.5, -0.5]  # origin at top\n",
    "for c in (1, 2):\n",
    "    fig.update_xaxes(range=xrange, row=1, col=c)\n",
    "    fig.update_yaxes(range=yrange, row=1, col=c)\n",
    "\n",
    "# 2) Lock square pixels and prevent domain stretch\n",
    "fig.update_yaxes(scaleanchor=\"x\",  scaleratio=1, constrain=\"domain\", row=1, col=1)\n",
    "fig.update_yaxes(scaleanchor=\"x2\", scaleratio=1, constrain=\"domain\", row=1, col=2)\n",
    "\n",
    "# Link panning/zooming between the two images (now safe)\n",
    "fig.update_xaxes(matches=\"x\")\n",
    "fig.update_yaxes(matches=\"y\")\n",
    "\n",
    "# Cosmetic\n",
    "# fig.write_html(\"images/bike_kmeans_compression.html\",include_plotlyjs='cdn', full_html=True)\n",
    "fig.update_layout(width=900, height=600, margin=dict(t=50, b=30, l=20, r=20))\n"
   ]
  },
  {
   "cell_type": "markdown",
   "id": "db8b5024",
   "metadata": {},
   "source": [
    "\n",
    "<link rel=\"stylesheet\" href=\"berkeley.css\">\n",
    "\n",
    "<h3 class=\"cal cal-h3\">Choosing the Number of Clusters</h3>\n",
    "\n",
    "We can use the k-means objective to evaluate the quality of clustering for different values of k. The objective (called inertia) is the sum of squared distances from each point to its assigned cluster center. A lower objective indicates better clustering.\n",
    "\n",
    "A standard method of choosing k is the \"elbow method\", where we plot the k-means score against k and look for an \"elbow\" point where the rate of improvement slows down."
   ]
  },
  {
   "cell_type": "code",
   "execution_count": null,
   "id": "0a3aa60e",
   "metadata": {},
   "outputs": [],
   "source": [
    "scores = pd.DataFrame(columns=['k'])\n",
    "scores['k'] = [2, 4, 8, 16, 32, 64, 128, 256]\n",
    "scores.set_index('k', inplace=True)\n",
    "\n",
    "# Apply k-means clustering to the RGB columns\n",
    "from sklearn.cluster import KMeans\n",
    "for k in scores.index:\n",
    "    kmeans = KMeans(n_clusters=k, random_state=42)\n",
    "    kmeans.fit(image_df[['R', 'G', 'B']])\n",
    "    # scores.loc[k, 'score'] = kmeans.score(image_df[['R', 'G', 'B']])\n",
    "    scores.loc[k, 'score'] = kmeans.inertia_ # Negative score"
   ]
  },
  {
   "cell_type": "code",
   "execution_count": null,
   "id": "d3844444",
   "metadata": {},
   "outputs": [],
   "source": [
    "fig = px.line(\n",
    "    scores, \n",
    "    title=\"K-Means Objective vs Number of Clusters\",\n",
    "    markers=True,\n",
    "    labels={\"index\": \"Number of Clusters (k)\", \n",
    "            \"value\": \"K-Means Objective\"},\n",
    "    width=700, height=400\n",
    ")\n",
    "fig.update_layout(xaxis_type=\"log\", xaxis_exponentformat='power', showlegend=False)\n",
    "fig.update_layout(margin=dict(t=50, b=30, l=20, r=20))\n",
    "# fig.write_image(\"images/kmeans_score_vs_k.pdf\", scale=2, height=400, width=700)\n",
    "fig"
   ]
  },
  {
   "cell_type": "markdown",
   "id": "3908ad27",
   "metadata": {},
   "source": [
    "<br><br><br>\n",
    "\n",
    "---\n",
    "Return to Lecture\n",
    "\n",
    "---\n",
    "\n",
    "<br><br><br>\n"
   ]
  },
  {
   "cell_type": "markdown",
   "id": "6c625dd4",
   "metadata": {},
   "source": [
    "<link rel=\"stylesheet\" href=\"berkeley.css\">\n",
    "<h2 class=\"cal cal-h2\">Wake Word Detector</h2>\n",
    "\n",
    "\n",
    "In lecture, we derived the probability that a wake word was spoken given the detector detected a wake word. We used Bayes' theorem to do this.\n",
    "\n",
    "\\begin{align*}\n",
    "P(W = 1| D=1) &= \\frac{P(D=1|W=1)P(W=1)}{P(D=1)}\\\\\n",
    "&=\\frac{P(D=1|W=1)P(W=1)}{P(D=1|W=1)P(W=1) + P(D=1|W=0)P(W=0)}\n",
    "\\end{align*}\n",
    "\n",
    "In the following function, we will implement this calculation."
   ]
  },
  {
   "cell_type": "code",
   "execution_count": null,
   "id": "b850eb06",
   "metadata": {},
   "outputs": [],
   "source": [
    "def wake_word_detector(\n",
    "        p_wake = 0.0001,               # P(wake) prior probability of wake word\n",
    "        p_detect_g_wake = 0.99,        # P(detect | wake) likelihood of detection given wake\n",
    "        p_detect_g_nowake = 0.001      # P(detect | no wake) likelihood of detection given no wake\n",
    "):\n",
    "    # P(wake | detect) = P(detect | wake) * P(wake) / P(detect)\n",
    "    p_detect = p_wake * p_detect_g_wake + (1 - p_wake) * p_detect_g_nowake\n",
    "    p_wake_g_detect = p_detect_g_wake * p_wake / p_detect\n",
    "    return p_wake_g_detect\n",
    "\n",
    "wake_word_detector()"
   ]
  },
  {
   "cell_type": "markdown",
   "id": "66b9db7b",
   "metadata": {},
   "source": [
    "We want to understand what happens if we vary the recall of the detector. The recall (also called sensitivity) is defined as $P(D=1|W=1)$, the probability that the detector detects a wake word when a wake word was actually spoken. We also vary the false positive rate, defined as $P(D=1|W=0)$, the probability that the detector detects a wake word when no wake word was spoken.\n",
    "\n",
    "$$\n",
    "P(W = 1| D=1) =\\frac{\\text{(Recall)} P(W=1)}{\\text{(Recall)} P(W=1) + \\text{(False Positive Rate)} P(D=1|W=0)P(W=0)}\n",
    "$$\n",
    "\n",
    "We can see from the above equation that even as recall approaches 1, if the false positive rate is high, the probability that a detected wake word was actually spoken can still be low.\n"
   ]
  },
  {
   "cell_type": "code",
   "execution_count": null,
   "id": "0fb5d6a0",
   "metadata": {},
   "outputs": [],
   "source": [
    "p_detect_g_nowake = np.logspace(-6, -4, 100)\n",
    "p_wake_g_detect = wake_word_detector(p_detect_g_nowake=p_detect_g_nowake, \n",
    "                                     p_detect_g_wake=1.0)\n",
    "fig = px.line(\n",
    "    x=p_detect_g_nowake,\n",
    "    y=p_wake_g_detect,\n",
    "    title=\"P(Wake | Detect) vs False Positive Rate for Perfect Recall\",\n",
    "    labels={\n",
    "        \"x\": \"P(Detect | No Wake) (False Positive Rate)\",\n",
    "        \"y\": \"P(Wake | Detect)\"\n",
    "    },\n",
    "    log_x=True\n",
    ")\n",
    "fig.update_layout( xaxis_exponentformat='power')\n",
    "#fig.write_image(\"images/wake_word_detector_fpr.pdf\", scale=2, height=500, width=700)\n",
    "fig"
   ]
  },
  {
   "cell_type": "code",
   "execution_count": null,
   "id": "84b572b3",
   "metadata": {},
   "outputs": [],
   "source": [
    "p_detect_g_wake = np.logspace(-0.8, 0, 100)\n",
    "p_wake_g_detect = wake_word_detector(p_detect_g_wake=p_detect_g_wake,\n",
    "                                     p_detect_g_nowake=0.0001)\n",
    "fig = px.line(\n",
    "    x=p_detect_g_wake,\n",
    "    y=p_wake_g_detect,\n",
    "    title=\"P(Wake | Detect) vs Recall (Sensitivity) for FPR=0.001\",\n",
    "    labels={\n",
    "        \"x\": \"P(Detect | Wake) Recall\",\n",
    "        \"y\": \"P(Wake | Detect)\"\n",
    "    },\n",
    "    log_x=True\n",
    ")\n",
    "fig.update_layout( xaxis_exponentformat='power')\n",
    "#fig.write_image(\"images/wake_word_detector_recall.pdf\", scale=2, height=500, width=700)\n",
    "fig"
   ]
  },
  {
   "cell_type": "markdown",
   "id": "226fc6ff",
   "metadata": {},
   "source": [
    "<br><br><br>\n",
    "\n",
    "---\n",
    "Return to Lecture\n",
    "\n",
    "---\n",
    "\n",
    "<br><br><br>\n"
   ]
  }
 ],
 "metadata": {
  "kernelspec": {
   "display_name": "py_3_11",
   "language": "python",
   "name": "python3"
  },
  "language_info": {
   "codemirror_mode": {
    "name": "ipython",
    "version": 3
   },
   "file_extension": ".py",
   "mimetype": "text/x-python",
   "name": "python",
   "nbconvert_exporter": "python",
   "pygments_lexer": "ipython3",
   "version": "3.11.13"
  }
 },
 "nbformat": 4,
 "nbformat_minor": 5
}
