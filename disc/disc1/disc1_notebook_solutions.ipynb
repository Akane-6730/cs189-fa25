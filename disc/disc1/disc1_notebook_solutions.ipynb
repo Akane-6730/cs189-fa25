{
  "cells": [
    {
      "cell_type": "markdown",
      "id": "a28663ee",
      "metadata": {
        "id": "a28663ee"
      },
      "source": [
        "# Discussion 1: Pandas Review\n",
        "\n",
        "This section of Discussion 1 is meant to review [Pandas](https://pandas.pydata.org/docs/), one of the most popular Python libraries for data-wrangling. It's a crucial tool in any machine learning researcher or engineer's repertoire and you will continue to use it heavily throughout the semester.\n",
        "\n",
        "Let's start by loading the necessary packages for today's exercise, which will look at movie data from IMDb. We use the `read_csv` function to load data from the internet, but you can also use this function to load a file from your local storage.\n",
        "\n",
        "*NOTE: The output of the cells may not be correct if run out of order, even if your code is correct. If in doubt, you can run all cells at once, which should take no more than a few seconds.*\n"
      ]
    },
    {
      "cell_type": "code",
      "execution_count": null,
      "id": "4j-uJamRWD2Z",
      "metadata": {
        "id": "4j-uJamRWD2Z"
      },
      "outputs": [],
      "source": [
        "import os, random, numpy as np\n",
        "SEED = 189\n",
        "\n",
        "os.environ[\"PYTHONHASHSEED\"] = str(SEED)\n",
        "\n",
        "random.seed(SEED)\n",
        "np.random.seed(SEED)"
      ]
    },
    {
      "cell_type": "code",
      "execution_count": null,
      "id": "982be303",
      "metadata": {
        "id": "982be303"
      },
      "outputs": [],
      "source": [
        "import pandas as pd\n",
        "import plotly.express as px\n",
        "\n",
        "# Load the title_basics dataset from IMDb\n",
        "title_basics  = pd.read_csv(\n",
        "    \"https://datasets.imdbws.com/title.basics.tsv.gz\",\n",
        "    sep=\"\\t\", compression=\"gzip\", na_values=\"\\\\N\", nrows=500000\n",
        ")\n",
        "# Load the title_ratings dataset from IMDb\n",
        "title_ratings = pd.read_csv(\n",
        "    \"https://datasets.imdbws.com/title.ratings.tsv.gz\",\n",
        "    sep=\"\\t\", compression=\"gzip\", na_values=\"\\\\N\", nrows=500000\n",
        ")\n",
        "\n",
        "# Sort both dataframes by 'tconst' and reset the index\n",
        "title_basics  = title_basics.sort_values(\"tconst\", kind=\"mergesort\").reset_index(drop=True)\n",
        "title_ratings = title_ratings.sort_values(\"tconst\", kind=\"mergesort\").reset_index(drop=True)"
      ]
    },
    {
      "cell_type": "markdown",
      "id": "1c2b905d",
      "metadata": {
        "id": "1c2b905d"
      },
      "source": [
        "## Part 1: Exploration and Data Cleaning\n",
        "\n",
        "Let's start by inspecting the `title_basics` `DataFrame`."
      ]
    },
    {
      "cell_type": "markdown",
      "source": [
        "### Q 1.1\n",
        "\n",
        "How many columns are in the `title_basics` `DataFrame`?\n",
        "\n",
        "What is the data type of the startYear column? Does this make sense?\n"
      ],
      "metadata": {
        "id": "gtD1XrLqaDMw"
      },
      "id": "gtD1XrLqaDMw"
    },
    {
      "cell_type": "code",
      "execution_count": null,
      "id": "79f62b2b",
      "metadata": {
        "id": "79f62b2b"
      },
      "outputs": [],
      "source": [
        "\n",
        "title_basics['startYear'].dtype\n",
        "\n",
        "### ALTERNATE SOLUTION\n",
        "# title_basics.info()\n"
      ]
    },
    {
      "cell_type": "markdown",
      "source": [
        "### Q1.2\n",
        "\n",
        "What is the value in 101st row of the `primaryTitle` column of the `title_basics` `DataFrame`? *HINT: Recall that* `DataFrame` *uses 0-indexing*\n"
      ],
      "metadata": {
        "id": "7Tksys_baYIi"
      },
      "id": "7Tksys_baYIi"
    },
    {
      "cell_type": "code",
      "execution_count": null,
      "id": "10583971",
      "metadata": {
        "id": "10583971"
      },
      "outputs": [],
      "source": [
        "\n",
        "title_basics['primaryTitle'][100]\n"
      ]
    },
    {
      "cell_type": "markdown",
      "source": [
        "### Q1.3\n",
        "\n",
        "Display the first 3 rows and the last 6 rows of the `title_basics` `DataFrame` as a single `DataFrame`.\n"
      ],
      "metadata": {
        "id": "kcO_Aylsali-"
      },
      "id": "kcO_Aylsali-"
    },
    {
      "cell_type": "code",
      "execution_count": null,
      "id": "3617e365",
      "metadata": {
        "id": "3617e365"
      },
      "outputs": [],
      "source": [
        "\n",
        "pd.concat([title_basics.head(3), title_basics.tail(6)])\n",
        "\n",
        "### ALTERNATE SOLUTION\n",
        "# pd.concat([title_basics.iloc[:3], title_basics[-6:]])\n"
      ]
    },
    {
      "cell_type": "markdown",
      "source": [
        "### Q1.4\n",
        "\n",
        "How many unique `titleTypes` are there in the `title_basics` `DataFrame`? Which is the most common?\n"
      ],
      "metadata": {
        "id": "kHTuCDb6ayit"
      },
      "id": "kHTuCDb6ayit"
    },
    {
      "cell_type": "code",
      "execution_count": null,
      "id": "0ef57e4c",
      "metadata": {
        "id": "0ef57e4c"
      },
      "outputs": [],
      "source": [
        "\n",
        "title_basics['titleType'].value_counts()\n"
      ]
    },
    {
      "cell_type": "markdown",
      "id": "ad14906b",
      "metadata": {
        "id": "ad14906b"
      },
      "source": [
        "Now let's practice some common `DataFrame` modifications.\n",
        "\n",
        "### Q1.5\n",
        "\n",
        "Remove the `originalTitle` and `endYear` columns from the `title_basics` `DataFrame`. Make sure that the columns are permanently removed from the `title_basics` `DataFrame`.\n"
      ]
    },
    {
      "cell_type": "code",
      "execution_count": null,
      "id": "7e79f93f",
      "metadata": {
        "id": "7e79f93f"
      },
      "outputs": [],
      "source": [
        "title_basics = title_basics.drop(columns=['originalTitle', 'endYear'])\n",
        "\n",
        "# ALTERNATE SOLUTION\n",
        "# title_basics.drop(columns=['originalTitle', 'endYear'], inplace=True)\n",
        "\n",
        "title_basics.head()"
      ]
    },
    {
      "cell_type": "markdown",
      "source": [
        "### Q1.6\n",
        "\n",
        "Rename `primaryTitle` to `title` and `startYear` to `year` in the `title_basics` `DataFrame`. Make sure that the changes are reflected permanently in the `title_basics` `DataFrame`.\n",
        "\n"
      ],
      "metadata": {
        "id": "XctoqlYkbUvj"
      },
      "id": "XctoqlYkbUvj"
    },
    {
      "cell_type": "code",
      "execution_count": null,
      "id": "139da0ac",
      "metadata": {
        "id": "139da0ac"
      },
      "outputs": [],
      "source": [
        "title_basics = title_basics.rename(columns={'primaryTitle': 'title', 'startYear': 'year'})\n",
        "\n",
        "# ALTERNATE SOLUTION\n",
        "# title_basics.rename(columns={'primaryTitle': 'title', 'startYear': 'year'}, inplace=True)\n",
        "\n",
        "title_basics.head()"
      ]
    },
    {
      "cell_type": "markdown",
      "id": "b2f8c08d",
      "metadata": {
        "id": "b2f8c08d"
      },
      "source": [
        "### Q1.7\n",
        "\n",
        "A crucial step in most data processing pipelines for machine learning is dealing with missing or corrupted data. Often, these missing values are represented as a `NaN` (not a number).\n",
        "\n",
        "Sometimes in the context of machine learning we'd want to estimate a value for a missing feature rather than remove that sample point entirely. Can you think of some simple ways in which we could perform that estimation?"
      ]
    },
    {
      "cell_type": "markdown",
      "source": [
        "**Valid answers include but are not limited to:**\n",
        "- **interpolation with mean, median, or mode**\n",
        "- **nearest neighbor search: find the data point that is closest in the other features and use its value for the missing feature (or use interpolation methods with k nearest neighbors)**"
      ],
      "metadata": {
        "id": "qzRHVjWxcDBz"
      },
      "id": "qzRHVjWxcDBz"
    },
    {
      "cell_type": "markdown",
      "source": [
        "### Q1.8\n",
        "\n",
        "Remove all rows from the `title_basics` `DataFrame` where `runtimeMinutes` or `year` is `NaN`."
      ],
      "metadata": {
        "id": "_GxonqpAcJi3"
      },
      "id": "_GxonqpAcJi3"
    },
    {
      "cell_type": "code",
      "execution_count": null,
      "id": "45b9de4a",
      "metadata": {
        "id": "45b9de4a"
      },
      "outputs": [],
      "source": [
        "\n",
        "initial_length = title_basics.shape[0]\n",
        "\n",
        "title_basics = title_basics.dropna(subset=['runtimeMinutes', 'year'])\n",
        "\n",
        "# ALTERNATE SOLUTION\n",
        "# title_basics.dropna(subset=['runtimeMinutes'], inplace=True)\n",
        "\n",
        "final_length = title_basics.shape[0]\n",
        "\n",
        "print(f\"{initial_length - final_length} rows removed from dataframe\")\n"
      ]
    },
    {
      "cell_type": "markdown",
      "source": [
        "### Q1.9\n",
        "\n",
        "Change the data type of the `year` column in the `title_basics` `DataFrame` to something that makes more sense. Then confirm that the change is permanently applied."
      ],
      "metadata": {
        "id": "af2ghadqccZy"
      },
      "id": "af2ghadqccZy"
    },
    {
      "cell_type": "code",
      "execution_count": null,
      "id": "26e3612b",
      "metadata": {
        "id": "26e3612b"
      },
      "outputs": [],
      "source": [
        "title_basics['year'] = title_basics['year'].astype(int)\n",
        "title_basics['year'].dtype"
      ]
    },
    {
      "cell_type": "markdown",
      "id": "8a7f65dc",
      "metadata": {
        "id": "8a7f65dc"
      },
      "source": [
        "Let's practice some more basic filtering and sorting now.\n",
        "\n",
        "### Q1.10\n",
        "\n",
        "Extract the feature films (`titleType == \"movie\"`) released in 1954 from the `title_basics` `DataFrame` (save this as a new `DataFrame`, `feature_films_1954`)."
      ]
    },
    {
      "cell_type": "code",
      "execution_count": null,
      "id": "a3165a21",
      "metadata": {
        "id": "a3165a21"
      },
      "outputs": [],
      "source": [
        "feature_films_1954 = title_basics[(title_basics['titleType'] == 'movie') & (title_basics['year'] == 1954)]\n",
        "\n",
        "feature_films_1954.head()"
      ]
    },
    {
      "cell_type": "markdown",
      "source": [
        "### Q1.11\n",
        "\n",
        "Among the feature films from 1954, which film has the longest runtime? Return its `title` and `runtimeMinutes` as a `DataFrame` extracted from the `title_basics` `DataFrame`.\n"
      ],
      "metadata": {
        "id": "byEsV1GWdACD"
      },
      "id": "byEsV1GWdACD"
    },
    {
      "cell_type": "code",
      "execution_count": null,
      "id": "7c504fd3",
      "metadata": {
        "id": "7c504fd3"
      },
      "outputs": [],
      "source": [
        "\n",
        "feature_films_1954.sort_values(by='runtimeMinutes', ascending=False).iloc[0][['title', 'runtimeMinutes']]\n"
      ]
    },
    {
      "cell_type": "markdown",
      "source": [
        "## Part 2: Complex Modifications, Aggregations, Merging, and Plotting\n",
        "\n",
        "Let's first modify the `title_basics` `DataFrame` so that we have one genre in for each row by duplicating rows that have multiple genres. [`df.explode`](https://pandas.pydata.org/docs/reference/api/pandas.DataFrame.explode.html) will be helpful for this transformation."
      ],
      "metadata": {
        "id": "wZ-0OLfLeVE0"
      },
      "id": "wZ-0OLfLeVE0"
    },
    {
      "cell_type": "code",
      "source": [
        "# Split the genres string into a list of genres\n",
        "title_basics['genres'] = title_basics['genres'].str.split(',')\n",
        "# Explode the list of genres into separate rows\n",
        "title_basics = title_basics.explode('genres')\n",
        "\n",
        "title_basics.head()"
      ],
      "metadata": {
        "id": "PjJ6mBTZeLj5"
      },
      "id": "PjJ6mBTZeLj5",
      "execution_count": null,
      "outputs": []
    },
    {
      "cell_type": "markdown",
      "id": "ddd9d62d",
      "metadata": {
        "id": "ddd9d62d"
      },
      "source": [
        "### Q2.1\n",
        "\n",
        "For each `genre` in the `title_basics` `DataFrame`, compute the mean runtime of feature films released since 1960.\n",
        "Show the five longest-mean genres."
      ]
    },
    {
      "cell_type": "code",
      "execution_count": null,
      "id": "97ba3b91",
      "metadata": {
        "id": "97ba3b91"
      },
      "outputs": [],
      "source": [
        "\n",
        "title_basics[title_basics['year'] >= 1960].groupby('genres')['runtimeMinutes'].mean().sort_values(ascending=False).head()\n",
        "\n",
        "### ALTERNATE SOLUTION\n",
        "# title_basics[title_basics['year'] >= 1960].groupby('genres').agg({'runtimeMinutes': 'mean'}).sort_values(by='runtimeMinutes', ascending=False).head()"
      ]
    },
    {
      "cell_type": "markdown",
      "source": [
        "### Q2.2\n",
        "\n",
        "Merge the `title_ratings` `DataFrame` with the `title_basics` `DataFrame` by joining on the `tconst` column. How many titles are present in the `title_basics` `DataFrame` but not in the `title_ratings` `DataFrame`? Store the merged `DataFrame` as `merged_df`.\n",
        "\n",
        "**Hint:** Recall that because of the genre splitting, the number of titles is not equal to the number of rows."
      ],
      "metadata": {
        "id": "xzaSo6uCg2PP"
      },
      "id": "xzaSo6uCg2PP"
    },
    {
      "cell_type": "code",
      "execution_count": null,
      "id": "1645f018",
      "metadata": {
        "id": "1645f018"
      },
      "outputs": [],
      "source": [
        "n_titles_basics = title_basics.groupby('tconst').any().shape[0]\n",
        "\n",
        "merged_df = pd.merge(title_basics, title_ratings, on='tconst', how='inner')\n",
        "print(merged_df.head())\n",
        "\n",
        "n_titles_merged = merged_df.groupby('tconst').any().shape[0]\n",
        "\n",
        "print(f\"\\nNumber of titles in basics but not in ratings: {n_titles_basics - n_titles_merged}\")"
      ]
    },
    {
      "cell_type": "markdown",
      "source": [
        "### Q2.3\n",
        "\n",
        "Using the `merged_df` `DataFrame` and plotly express, create an interactive scatter plot of the `runtimeMinutes` vs. `numVotes` for movies in the `merged_df` `DataFrame`.\n",
        "Color the points by the `year` of the movie and add a title and axis labels to the plot. Also, make sure the movie title is visible when hovering over the\n",
        "data points.\n",
        "\n",
        "**Note:** To make the data easier to visualize, we take a sample of just 2000 movies. That's why you may not see your favorites on this plot. It's important not to change the random state as you'll end up getting different results for the following questions."
      ],
      "metadata": {
        "id": "R91YICJXhOFb"
      },
      "id": "R91YICJXhOFb"
    },
    {
      "cell_type": "code",
      "execution_count": null,
      "id": "38704f50",
      "metadata": {
        "id": "38704f50"
      },
      "outputs": [],
      "source": [
        "sampled_df = merged_df[merged_df['titleType'] == 'movie'].sample(n=2000, random_state=SEED)\n",
        "\n",
        "px.scatter(sampled_df, x='runtimeMinutes', y='numVotes', color='year', hover_data=['title'],\n",
        "    title='Number of Votes vs. Runtime, IMDb Movies',\n",
        "    labels={'runtimeMinutes': 'Runtime (minutes)', 'numVotes': 'Number of Votes', 'year': 'Year of Release'})"
      ]
    },
    {
      "cell_type": "markdown",
      "id": "bdab6ba0",
      "metadata": {
        "id": "bdab6ba0"
      },
      "source": [
        "### Q2.4\n",
        "\n",
        "Describe any trends you see in the plot above."
      ]
    },
    {
      "cell_type": "markdown",
      "source": [
        "**Valid trends to observe include but are not limited to:**\n",
        "- **movies with very low and very high runtimes tend to receive fewer votes**\n",
        "- **the movies with the most votes tend to have been released more recently**\n",
        "- **the movies with the most votes tend to be around 90-160 minutes long**"
      ],
      "metadata": {
        "id": "FlOss9mjicpU"
      },
      "id": "FlOss9mjicpU"
    },
    {
      "cell_type": "markdown",
      "id": "c2daf402",
      "metadata": {
        "id": "c2daf402"
      },
      "source": [
        "### Q2.5\n",
        "Which two movies in the plot received the most votes and had the longest runtime, respectively? When were they each released?"
      ]
    },
    {
      "cell_type": "markdown",
      "source": [
        "**Most votes: Jurassic Park, released 1993**\n",
        "\n",
        "**Longest runtime: Resan, released 1987**"
      ],
      "metadata": {
        "id": "z02MGounidW2"
      },
      "id": "z02MGounidW2"
    },
    {
      "cell_type": "markdown",
      "id": "f4398a67",
      "metadata": {
        "id": "f4398a67"
      },
      "source": [
        "# Part 3: Finding the perfect movie\n",
        "\n",
        "Aakarsh has spent his whole summer brainrotting and doomscrolling, so now his attention span is COOKED. He wants to pick a movie to watch tonight but wants to make sure it isn't so long he gets bored. He decides to construct a Brainrot Score (BRS) to help him find the perfect movie:\n",
        "\n",
        "$$BRS = \\frac{\\text{averageRating}}{\\sqrt{\\text{runtimeMinutes}}}$$\n",
        "\n",
        "He also wants to make sure the following criteria hold:\n",
        "- The title should be a *movie* made in 1980 or later.\n",
        "- It must have at least 10000 votes.\n",
        "- It must be in the `History`, `Thriller`, or `Comedy` genres.\n",
        "\n",
        "Can you help Aakarsh out by finding the 3 best movies by BRS in each of his preferred genres?"
      ]
    },
    {
      "cell_type": "code",
      "execution_count": null,
      "id": "21efe40a",
      "metadata": {
        "id": "21efe40a"
      },
      "outputs": [],
      "source": [
        "# Filter step\n",
        "filtered = merged_df[(merged_df['titleType'] == 'movie') &\n",
        "    (merged_df['year'] >= 1980) &\n",
        "    (merged_df['genres'].isin(['History', 'Thriller', 'Comedy'])) &\n",
        "    (merged_df['numVotes'] >= 10000)\n",
        "]\n",
        "# Calculate BRS\n",
        "filtered['BRS'] = filtered['averageRating'] / np.sqrt(filtered['runtimeMinutes'])\n",
        "\n",
        "# Sort and group by genres\n",
        "selections = (filtered.sort_values(by='BRS', ascending=False)\n",
        "                     .groupby('genres')\n",
        "                     .head(3))\n",
        "selections.head(9)"
      ]
    }
  ],
  "metadata": {
    "colab": {
      "provenance": []
    },
    "kernelspec": {
      "display_name": "base",
      "language": "python",
      "name": "python3"
    },
    "language_info": {
      "codemirror_mode": {
        "name": "ipython",
        "version": 3
      },
      "file_extension": ".py",
      "mimetype": "text/x-python",
      "name": "python",
      "nbconvert_exporter": "python",
      "pygments_lexer": "ipython3",
      "version": "3.12.2"
    }
  },
  "nbformat": 4,
  "nbformat_minor": 5
}